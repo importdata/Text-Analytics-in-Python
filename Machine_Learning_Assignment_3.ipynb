{
  "nbformat": 4,
  "nbformat_minor": 0,
  "metadata": {
    "colab": {
      "name": "Machine Learning Assignment 3.ipynb",
      "provenance": [],
      "collapsed_sections": []
    },
    "kernelspec": {
      "name": "python3",
      "display_name": "Python 3"
    },
    "accelerator": "TPU"
  },
  "cells": [
    {
      "cell_type": "markdown",
      "metadata": {
        "id": "5JITZjJ3l5Y9",
        "colab_type": "text"
      },
      "source": [
        "##Machine Learning Assignment 3\n",
        "##Author: Jaemin Lee\n",
        "##Due: 11/10/19 "
      ]
    },
    {
      "cell_type": "code",
      "metadata": {
        "id": "CYwL7y-bmQ90",
        "colab_type": "code",
        "outputId": "363e0002-9630-4c8d-863e-db6b39124b94",
        "colab": {
          "base_uri": "https://localhost:8080/",
          "height": 34
        }
      },
      "source": [
        "# mount google drive\n",
        "from google.colab import drive\n",
        "drive.mount('/content/gdrive')"
      ],
      "execution_count": 1,
      "outputs": [
        {
          "output_type": "stream",
          "text": [
            "Drive already mounted at /content/gdrive; to attempt to forcibly remount, call drive.mount(\"/content/gdrive\", force_remount=True).\n"
          ],
          "name": "stdout"
        }
      ]
    },
    {
      "cell_type": "markdown",
      "metadata": {
        "id": "NbspPtKioP4Y",
        "colab_type": "text"
      },
      "source": [
        "# Import libraries"
      ]
    },
    {
      "cell_type": "code",
      "metadata": {
        "id": "A00g7UVQnP1k",
        "colab_type": "code",
        "outputId": "0bc292e7-6514-4587-fbc2-480b8a37f308",
        "colab": {
          "base_uri": "https://localhost:8080/",
          "height": 103
        }
      },
      "source": [
        "import sklearn\n",
        "import numpy as np\n",
        "import pandas as pd\n",
        "import nltk\n",
        "nltk.download(\"stopwords\")\n",
        "nltk.download('punkt')\n",
        "from nltk.corpus import stopwords\n",
        "from nltk.tokenize import word_tokenize\n",
        "set(stopwords.words('english'))\n",
        "print()\n",
        "from sklearn.feature_extraction.text import CountVectorizer"
      ],
      "execution_count": 2,
      "outputs": [
        {
          "output_type": "stream",
          "text": [
            "[nltk_data] Downloading package stopwords to /root/nltk_data...\n",
            "[nltk_data]   Package stopwords is already up-to-date!\n",
            "[nltk_data] Downloading package punkt to /root/nltk_data...\n",
            "[nltk_data]   Package punkt is already up-to-date!\n",
            "\n"
          ],
          "name": "stdout"
        }
      ]
    },
    {
      "cell_type": "markdown",
      "metadata": {
        "id": "tNN4SsblpijJ",
        "colab_type": "text"
      },
      "source": [
        "# Read text files"
      ]
    },
    {
      "cell_type": "code",
      "metadata": {
        "id": "v1YJ8ZrQol7F",
        "colab_type": "code",
        "colab": {}
      },
      "source": [
        "train_txt = open(\"gdrive/My Drive/Machine Learning Assignment 3/reviews_train.txt\", \"r+\")\n",
        "test_txt = open(\"gdrive/My Drive/Machine Learning Assignment 3/reviews_test.txt\", \"r+\")"
      ],
      "execution_count": 0,
      "outputs": []
    },
    {
      "cell_type": "markdown",
      "metadata": {
        "id": "VvmiAqJJD6dZ",
        "colab_type": "text"
      },
      "source": [
        "#Function to clean the text document"
      ]
    },
    {
      "cell_type": "code",
      "metadata": {
        "id": "QWGGPnB_EEvP",
        "colab_type": "code",
        "colab": {}
      },
      "source": [
        "# cleaning data\n",
        "import re\n",
        "\n",
        "REPLACE_NO_SPACE = re.compile(\"[,;:!\\'?,\\\"()\\[\\]]\")\n",
        "REPLACE_WITH_SPACE = re.compile(\"(<br\\s*/><br\\s*/?)|(\\-)|(\\/)\")\n",
        "\n",
        "def preprocess_reviews(reviews):\n",
        "  reviews = [REPLACE_NO_SPACE.sub(\"\", line.lower()) for line in reviews]\n",
        "  reviews = [REPLACE_WITH_SPACE.sub(\" \", line) for line in reviews]\n",
        "\n",
        "  return reviews"
      ],
      "execution_count": 0,
      "outputs": []
    },
    {
      "cell_type": "markdown",
      "metadata": {
        "id": "Qlia3K0pqQmJ",
        "colab_type": "text"
      },
      "source": [
        "# Cleaning training and test data (using regular expression operations)"
      ]
    },
    {
      "cell_type": "code",
      "metadata": {
        "id": "EWuj4A8Ephza",
        "colab_type": "code",
        "colab": {}
      },
      "source": [
        "# cleaning training data\n",
        "reviews_train_clean = preprocess_reviews(train_txt)\n",
        "\n",
        "# cleaning test data\n",
        "reviews_test_clean = preprocess_reviews(test_txt)"
      ],
      "execution_count": 0,
      "outputs": []
    },
    {
      "cell_type": "code",
      "metadata": {
        "id": "OtCTOPl5M8FX",
        "colab_type": "code",
        "colab": {}
      },
      "source": [
        "reviews_train_clean"
      ],
      "execution_count": 0,
      "outputs": []
    },
    {
      "cell_type": "code",
      "metadata": {
        "id": "n7w_YYfdNCaN",
        "colab_type": "code",
        "colab": {}
      },
      "source": [
        "reviews_test_clean"
      ],
      "execution_count": 0,
      "outputs": []
    },
    {
      "cell_type": "markdown",
      "metadata": {
        "id": "7y0kI2DAsc46",
        "colab_type": "text"
      },
      "source": [
        "# Removing stop words using NLTK package for review_train"
      ]
    },
    {
      "cell_type": "code",
      "metadata": {
        "id": "cQBOJEjTq3Qc",
        "colab_type": "code",
        "colab": {}
      },
      "source": [
        "from nltk.corpus import stopwords\n",
        "\n",
        "english_stop_words = stopwords.words('english')\n",
        "def remove_stop_words(corpus):\n",
        "    removed_stop_words = []\n",
        "    for review in corpus:\n",
        "        removed_stop_words.append(\n",
        "            ' '.join([word for word in review.split() \n",
        "                      if word not in english_stop_words])\n",
        "        )\n",
        "    return removed_stop_words\n",
        "\n",
        "no_stop_words_train = remove_stop_words(reviews_train_clean)\n"
      ],
      "execution_count": 0,
      "outputs": []
    },
    {
      "cell_type": "markdown",
      "metadata": {
        "id": "fcRBYOeuVltL",
        "colab_type": "text"
      },
      "source": [
        "# Removing stop words using NLTK package for review_test"
      ]
    },
    {
      "cell_type": "code",
      "metadata": {
        "id": "Xbg7Muo4NhlR",
        "colab_type": "code",
        "colab": {}
      },
      "source": [
        "no_stop_words_test = remove_stop_words(reviews_test_clean)\n"
      ],
      "execution_count": 0,
      "outputs": []
    },
    {
      "cell_type": "markdown",
      "metadata": {
        "id": "6PDaeDMvPSIR",
        "colab_type": "text"
      },
      "source": [
        "# Vectorizing the word from the training and test data"
      ]
    },
    {
      "cell_type": "code",
      "metadata": {
        "id": "6ZiI5iKHtZ_y",
        "colab_type": "code",
        "outputId": "36a69818-2cdf-4b15-ed28-d21a4ba0a2bd",
        "colab": {
          "base_uri": "https://localhost:8080/",
          "height": 34
        }
      },
      "source": [
        "from sklearn.feature_extraction.text import CountVectorizer\n",
        "\n",
        "vectorizer = CountVectorizer(binary = True)\n",
        "vectorizer.fit(no_stop_words_train)\n",
        "\n",
        "vector_train = vectorizer.transform(no_stop_words_train)\n",
        "vector_test = vectorizer.transform(no_stop_words_test)\n",
        "vector_test.shape\n"
      ],
      "execution_count": 9,
      "outputs": [
        {
          "output_type": "execute_result",
          "data": {
            "text/plain": [
              "(25000, 85369)"
            ]
          },
          "metadata": {
            "tags": []
          },
          "execution_count": 9
        }
      ]
    },
    {
      "cell_type": "markdown",
      "metadata": {
        "id": "BoD7BgaWSgJv",
        "colab_type": "text"
      },
      "source": [
        "# making true labels"
      ]
    },
    {
      "cell_type": "code",
      "metadata": {
        "id": "VV8P5_3uR0aT",
        "colab_type": "code",
        "colab": {
          "base_uri": "https://localhost:8080/",
          "height": 34
        },
        "outputId": "31aaf551-e89f-42d9-d05f-c2f69d491a65"
      },
      "source": [
        "positive = np.array([1])\n",
        "positive = np.tile(positive, 12500)\n",
        "\n",
        "negative = np.array([0])\n",
        "negative = np.tile(negative, 12500)\n",
        "\n",
        "positive = pd.DataFrame(positive)\n",
        "#print(positive)\n",
        "negative = pd.DataFrame(negative)\n",
        "#print(negative)\n",
        "\n",
        "true_labels = pd.DataFrame([])\n",
        "\n",
        "true_labels = true_labels.append(positive)\n",
        "true_labels = true_labels.append(negative)\n",
        "true_labels.shape\n"
      ],
      "execution_count": 10,
      "outputs": [
        {
          "output_type": "execute_result",
          "data": {
            "text/plain": [
              "(25000, 1)"
            ]
          },
          "metadata": {
            "tags": []
          },
          "execution_count": 10
        }
      ]
    },
    {
      "cell_type": "markdown",
      "metadata": {
        "id": "V3USQt1XSuD9",
        "colab_type": "text"
      },
      "source": [
        "# Apply KNN\n",
        "\n"
      ]
    },
    {
      "cell_type": "code",
      "metadata": {
        "id": "Tmqp29gCPc_3",
        "colab_type": "code",
        "colab": {}
      },
      "source": [
        "from sklearn.neighbors import KNeighborsClassifier\n",
        "from sklearn import metrics\n",
        "\n",
        "# find the optimal K value by plotting (set range from 20 to 50 bc accuracy went down after 50)\n",
        "k_range = range(10,50)\n",
        "scores = {}\n",
        "scores_list = []\n",
        "\n",
        "for k in k_range:\n",
        "  knn = KNeighborsClassifier(n_neighbors=k*5)\n",
        "  knn.fit(vector_train, true_labels)\n",
        "  y_pred = knn.predict(vector_test)\n",
        "  scores[k] = metrics.accuracy_score(true_labels, y_pred)\n",
        "  scores_list.append(metrics.accuracy_score(true_labels, y_pred))\n",
        "\n",
        "%matplotlib inline\n",
        "import matplotlib.pyplot as plt\n",
        "\n",
        "plt.plot(k_range, scores_list)\n",
        "plt.xlabel('Value of K for KNN')\n",
        "plt.ylabel('Testing Accuracy')"
      ],
      "execution_count": 0,
      "outputs": []
    },
    {
      "cell_type": "code",
      "metadata": {
        "id": "Ef809T_JQV6B",
        "colab_type": "code",
        "colab": {
          "base_uri": "https://localhost:8080/",
          "height": 88
        },
        "outputId": "cf00cf69-688e-418e-a8f7-330935a6bf25"
      },
      "source": [
        "# best value for k = 38\n",
        "knn = KNeighborsClassifier(n_neighbors = 38)\n",
        "knn.fit(vector_train, true_labels)\n",
        "y_pred = knn.predict(vector_test)\n",
        "print(\"Accuracy score for KNN is: \" , accuracy_score(true_labels, y_pred))"
      ],
      "execution_count": 21,
      "outputs": [
        {
          "output_type": "stream",
          "text": [
            "/usr/local/lib/python3.6/dist-packages/ipykernel_launcher.py:2: DataConversionWarning: A column-vector y was passed when a 1d array was expected. Please change the shape of y to (n_samples, ), for example using ravel().\n",
            "  \n"
          ],
          "name": "stderr"
        },
        {
          "output_type": "stream",
          "text": [
            "Accuracy score for KNN is:  0.67952\n"
          ],
          "name": "stdout"
        }
      ]
    },
    {
      "cell_type": "markdown",
      "metadata": {
        "id": "LXu-caDGSWxc",
        "colab_type": "text"
      },
      "source": [
        "#Apply SVM"
      ]
    },
    {
      "cell_type": "code",
      "metadata": {
        "id": "_a2xbAHrdrxq",
        "colab_type": "code",
        "colab": {
          "base_uri": "https://localhost:8080/",
          "height": 106
        },
        "outputId": "ad46862c-7c11-48bb-8e55-1325adb1cc59"
      },
      "source": [
        "from sklearn import svm\n",
        "from sklearn.metrics import accuracy_score\n",
        "\n",
        "svm = svm.SVC(kernel = 'linear', probability=True)\n",
        "prob = svm.fit(vector_train, true_labels).predict_proba(vector_test)\n",
        "print(\"\\nAccuracy score for SVM is: \", accuracy_score(true_labels, svm.predict(vector_test)))"
      ],
      "execution_count": 12,
      "outputs": [
        {
          "output_type": "stream",
          "text": [
            "/usr/local/lib/python3.6/dist-packages/sklearn/utils/validation.py:724: DataConversionWarning: A column-vector y was passed when a 1d array was expected. Please change the shape of y to (n_samples, ), for example using ravel().\n",
            "  y = column_or_1d(y, warn=True)\n"
          ],
          "name": "stderr"
        },
        {
          "output_type": "stream",
          "text": [
            "\n",
            "Accuracy score for SVM is:  0.84712\n"
          ],
          "name": "stdout"
        }
      ]
    },
    {
      "cell_type": "code",
      "metadata": {
        "id": "Fm3shr6QXhrG",
        "colab_type": "code",
        "colab": {}
      },
      "source": [
        "pip install scikit-plot"
      ],
      "execution_count": 0,
      "outputs": []
    },
    {
      "cell_type": "markdown",
      "metadata": {
        "id": "12OgiV4AZbcH",
        "colab_type": "text"
      },
      "source": [
        "# ROC Curve for KNN"
      ]
    },
    {
      "cell_type": "code",
      "metadata": {
        "id": "CluQQTfuTosy",
        "colab_type": "code",
        "colab": {}
      },
      "source": [
        "import scikitplot as skplt\n",
        "import matplotlib.pyplot as plt\n",
        "from sklearn.metrics import roc_curve, auc\n",
        "\n",
        "y_scores = knn.predict_proba(vector_test)\n",
        "fpr, tpr, threshold = roc_curve(true_labels, y_scores[:, 1])\n",
        "roc_auc = auc(fpr, tpr)\n",
        "\n",
        "plt.title('Receiver Operating Characteristic')\n",
        "plt.plot(fpr, tpr, 'b', label = 'AUC = %0.2f' % roc_auc)\n",
        "plt.legend(loc = 'lower right')\n",
        "plt.plot([0, 1], [0, 1],'r--')\n",
        "plt.xlim([0, 1])\n",
        "plt.ylim([0, 1])\n",
        "plt.ylabel('True Positive Rate')\n",
        "plt.xlabel('False Positive Rate')\n",
        "plt.title('ROC Curve of kNN')\n",
        "plt.show()\n"
      ],
      "execution_count": 0,
      "outputs": []
    },
    {
      "cell_type": "markdown",
      "metadata": {
        "id": "cmTEgBJnaF7C",
        "colab_type": "text"
      },
      "source": [
        "# ROC Curve for SVM"
      ]
    },
    {
      "cell_type": "code",
      "metadata": {
        "id": "GwW2NJiCXUCC",
        "colab_type": "code",
        "colab": {}
      },
      "source": [
        "import scikitplot as skplt\n",
        "import matplotlib.pyplot as plt\n",
        "from sklearn.metrics import roc_curve, auc\n",
        "\n",
        "y_scores = svm.predict_proba(vector_test)\n",
        "fpr, tpr, threshold = roc_curve(true_labels, y_scores[:, 1])\n",
        "roc_auc = auc(fpr, tpr)\n",
        "\n",
        "plt.title('Receiver Operating Characteristic')\n",
        "plt.plot(fpr, tpr, 'b', label = 'AUC = %0.2f' % roc_auc)\n",
        "plt.legend(loc = 'lower right')\n",
        "plt.plot([0, 1], [0, 1],'r--')\n",
        "plt.xlim([0, 1])\n",
        "plt.ylim([0, 1])\n",
        "plt.ylabel('True Positive Rate')\n",
        "plt.xlabel('False Positive Rate')\n",
        "plt.title('ROC Curve of SVM')\n",
        "plt.show()\n"
      ],
      "execution_count": 0,
      "outputs": []
    }
  ]
}